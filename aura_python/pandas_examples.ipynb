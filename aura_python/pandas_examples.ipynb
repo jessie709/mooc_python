{
 "cells": [
  {
   "cell_type": "code",
   "execution_count": 33,
   "metadata": {},
   "outputs": [
    {
     "name": "stdout",
     "output_type": "stream",
     "text": [
      "                   a         b         c         d\n",
      "2019-10-10 -0.655650  0.210590 -1.927049 -0.075053\n",
      "2019-10-11 -2.061866  0.246129  0.017179  0.794077\n",
      "2019-10-12 -0.390372  0.411651  0.621240  0.259437\n",
      "2019-10-13 -0.887539 -1.364340 -0.480645 -1.366756\n",
      "2019-10-14 -0.747551 -0.533477 -1.177422  1.027238\n",
      "2019-10-15 -0.948512  2.228837  1.562871 -0.107718\n"
     ]
    }
   ],
   "source": [
    "import numpy as np\n",
    "import pandas as pd\n",
    "\n",
    "s = pd.Series([1, 3, 6, np.nan, 44, 1])\n",
    "\n",
    "dates = pd.date_range('20191010', periods = 6)\n",
    "\n",
    "df = pd.DataFrame(np.random.randn(6,4), index = dates,columns = [\"a\",\"b\",\"c\",\"d\"])\n",
    "\n",
    "df1 = pd.DataFrame(np.arange(12).reshape((3,4)))\n",
    "\n",
    "df['f']=np.nan\n",
    "df.a[df.a>0.1]=2\n",
    "\n",
    "\n",
    "print(df.dropna(axis = 1, how ='any'))\n",
    "\n",
    "\n",
    "#print(df1.sort_index(axis = 0, ascending = False))"
   ]
  },
  {
   "cell_type": "code",
   "execution_count": null,
   "metadata": {},
   "outputs": [],
   "source": []
  },
  {
   "cell_type": "code",
   "execution_count": null,
   "metadata": {},
   "outputs": [],
   "source": []
  }
 ],
 "metadata": {
  "kernelspec": {
   "display_name": "Python 3",
   "language": "python",
   "name": "python3"
  },
  "language_info": {
   "codemirror_mode": {
    "name": "ipython",
    "version": 3
   },
   "file_extension": ".py",
   "mimetype": "text/x-python",
   "name": "python",
   "nbconvert_exporter": "python",
   "pygments_lexer": "ipython3",
   "version": "3.6.5"
  }
 },
 "nbformat": 4,
 "nbformat_minor": 2
}
