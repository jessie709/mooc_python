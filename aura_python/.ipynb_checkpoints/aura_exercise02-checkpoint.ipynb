{
 "cells": [
  {
   "cell_type": "code",
   "execution_count": 4,
   "metadata": {},
   "outputs": [
    {
     "data": {
      "image/png": "[encoded data removed]",
      "text/plain": [
       "<Figure size 432x288 with 1 Axes>"
      ]
     },
     "metadata": {},
     "output_type": "display_data"
    }
   ],
   "source": [
    "from matplotlib import pyplot as plt \n",
    "import numpy as np \n",
    "\n",
    "x = np.arange(-2 * np.pi, 2 * np.pi, 0.1)\n",
    "y = np.sin(x)\n",
    "plt.plot(x,y)\n",
    "plt.xlim(-2*np.pi, 2 * np.pi)\n",
    "plt.ylim(-1,1)\n",
    "plt.title('y = sin(x)')\n",
    "plt.show( )\n"
   ]
  },
  {
   "cell_type": "code",
   "execution_count": 5,
   "metadata": {},
   "outputs": [
    {
     "name": "stdout",
     "output_type": "stream",
     "text": [
      "time.struct_time(tm_year=2019, tm_mon=8, tm_mday=29, tm_hour=11, tm_min=35, tm_sec=11, tm_wday=3, tm_yday=241, tm_isdst=0)\n",
      "there is no file name as b\n"
     ]
    }
   ],
   "source": [
    "import time\n",
    "print(time.localtime())\n",
    "\n",
    "try:\n",
    "  file = open('q','b')\n",
    "except Exception as e:\n",
    "  print('there is no file name as b')\n"
   ]
  },
  {
   "cell_type": "code",
   "execution_count": 6,
   "metadata": {},
   "outputs": [
    {
     "name": "stdout",
     "output_type": "stream",
     "text": [
      "change the upper and lower case\n",
      "Test\n",
      "TEST\n",
      "test\n",
      "\n",
      "\n",
      "insert the teb\n",
      "\ttest\n",
      "clera the space\n",
      "test\n"
     ]
    }
   ],
   "source": [
    "string= \"test\"\n",
    "number = 1\n",
    "\n",
    "print(\"change the upper and lower case\")\n",
    "print(string.title())\n",
    "print(string.upper())\n",
    "print(string.lower())\n",
    "print('\\n')\n",
    "\n",
    "print('insert the teb')\n",
    "print('\\t'+ string)\n",
    "print(\"clera the space\")\n",
    "print(string.strip())\n"
   ]
  },
  {
   "cell_type": "code",
   "execution_count": 7,
   "metadata": {},
   "outputs": [
    {
     "name": "stdout",
     "output_type": "stream",
     "text": [
      "['0', 'a', 'b', 'c', 'd', 'e', 'f', 'g']\n",
      "apple\n",
      "0\n",
      "a\n",
      "b\n",
      "c\n",
      "d\n",
      "e\n",
      "f\n",
      "g\n",
      "1\n",
      "2\n",
      "3\n",
      "4\n",
      "1\n",
      "3\n",
      "5\n",
      "7\n",
      "9\n",
      "[1, 4, 9, 16]\n"
     ]
    }
   ],
   "source": [
    "listT1 = ['a','b','c','d','e','f']\n",
    "listT1.append('g')\n",
    "listT1.insert(0,'0')\n",
    "print(listT1)\n",
    "\n",
    "tupleT1 = (0,1,2,5,4,\"apple\")\n",
    "print(tupleT1[5])\n",
    "\n",
    "for x in listT1:\n",
    "  print(x)\n",
    "for y in range(1,5):\n",
    "  print(y)\n",
    "for z in range(1,11,2):\n",
    "  print(z)\n",
    "\n",
    "listT2 = [i**2 for i in range(1,5)]\n",
    "print(listT2)"
   ]
  },
  {
   "cell_type": "code",
   "execution_count": 16,
   "metadata": {},
   "outputs": [
    {
     "name": "stdout",
     "output_type": "stream",
     "text": [
      "\t0\n",
      "\t1\n",
      "\t2\n",
      "\t3\n",
      "\t4\n"
     ]
    }
   ],
   "source": [
    "num1 = 0\n",
    "while num1 <=50:\n",
    "    print('\\t'+ str(num1))\n",
    "    num1+=1\n",
    "    if num1 == 5:\n",
    "        break"
   ]
  },
  {
   "cell_type": "code",
   "execution_count": 18,
   "metadata": {},
   "outputs": [
    {
     "name": "stdout",
     "output_type": "stream",
     "text": [
      "\t2\n",
      "\t4\n",
      "\t6\n"
     ]
    }
   ],
   "source": [
    "num2 = 0\n",
    "while num2 <=5:\n",
    "    num2 += 1\n",
    "    if num2%2 == 1:\n",
    "        continue\n",
    "    print('\\t'+str(num2))"
   ]
  },
  {
   "cell_type": "code",
   "execution_count": 20,
   "metadata": {},
   "outputs": [
    {
     "name": "stdout",
     "output_type": "stream",
     "text": [
      "x!=3V4V5\n"
     ]
    }
   ],
   "source": [
    "x=6\n",
    "\n",
    "if x == 3:\n",
    "    print('x=3')\n",
    "elif x == 4:\n",
    "    print(\"x=4\")\n",
    "elif x == 5:\n",
    "    print('x=5')\n",
    "else:\n",
    "    print('x!=3V4V5')\n"
   ]
  },
  {
   "cell_type": "code",
   "execution_count": 25,
   "metadata": {},
   "outputs": [
    {
     "name": "stdout",
     "output_type": "stream",
     "text": [
      "hellojessie\n"
     ]
    }
   ],
   "source": [
    "def sayhello(a= 'default name'):\n",
    "    return(\"hello\" + a)\n",
    "print(sayhello(\"jessie\"))"
   ]
  },
  {
   "cell_type": "code",
   "execution_count": 26,
   "metadata": {},
   "outputs": [
    {
     "name": "stdout",
     "output_type": "stream",
     "text": [
      "hellodefault name\n"
     ]
    }
   ],
   "source": [
    "test = sayhello()\n",
    "print(test)"
   ]
  },
  {
   "cell_type": "code",
   "execution_count": 29,
   "metadata": {},
   "outputs": [
    {
     "name": "stdout",
     "output_type": "stream",
     "text": [
      "jessie:('levin',)\n",
      "jessie:('levin', 'frank')\n"
     ]
    }
   ],
   "source": [
    "def names(a,*b):\n",
    "    print(a+\":\"+str(b))\n",
    "    \n",
    "names(\"jessie\",\"levin\")\n",
    "names(\"jessie\",\"levin\",\"frank\")"
   ]
  },
  {
   "cell_type": "code",
   "execution_count": 34,
   "metadata": {},
   "outputs": [
    {
     "name": "stdout",
     "output_type": "stream",
     "text": [
      "123456\n"
     ]
    }
   ],
   "source": [
    "import json\n",
    "doc1 = './numblist.txt'\n",
    "\n",
    "with open(doc1) as file1:\n",
    "    contents = file1.read()\n",
    "print(contents)"
   ]
  },
  {
   "cell_type": "code",
   "execution_count": null,
   "metadata": {},
   "outputs": [],
   "source": []
  }
 ],
 "metadata": {
  "kernelspec": {
   "display_name": "Python 3",
   "language": "python",
   "name": "python3"
  },
  "language_info": {
   "codemirror_mode": {
    "name": "ipython",
    "version": 3
   },
   "file_extension": ".py",
   "mimetype": "text/x-python",
   "name": "python",
   "nbconvert_exporter": "python",
   "pygments_lexer": "ipython3",
   "version": "3.6.5"
  }
 },
 "nbformat": 4,
 "nbformat_minor": 2
}
