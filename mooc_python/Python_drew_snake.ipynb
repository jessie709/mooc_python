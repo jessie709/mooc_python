{
 "cells": [
  {
   "cell_type": "markdown",
   "metadata": {},
   "source": [
    "turtle库的重点用法:\n",
    "![turtle](./pics/turtle01.png)\n",
    "turtle.forward(d)---别名:turtle.fd(d)走直线,负数就倒退的\n",
    "\n",
    "turtle.circle(r,extent=None)---r:海龟左侧r距离的位置;extent:绘制角度,默认是360整圆\n",
    "\n",
    "turtle.setheading(angle)---别名:turtle.seth(angle)转角度"
   ]
  },
  {
   "cell_type": "markdown",
   "metadata": {},
   "source": [
    "\n",
    "实例2: Python蟒蛇绘制\n",
    " ‪‬‪‬‪‬‪‬‪‬‮‬‪‬‭‬‪‬‪‬‪‬‪‬‪‬‮‬‪‬‪‬‪‬‪‬‪‬‪‬‪‬‮‬‫‬‮‬‪‬‪‬‪‬‪‬‪‬‮‬‪‬‮‬‪‬‪‬‪‬‪‬‪‬‮‬‪‬‫‬‪‬‪‬‪‬‪‬‪‬‮‬‫‬‭‬\n",
    "\n",
    "描述\n",
    "这m是\"实例\"题，与课上讲解实例相同，请作答检验学习效果。‪‬‪‬‪‬‪‬‪‬‮‬‪‬‭‬‪‬‪‬‪‬‪‬‪‬‮‬‪‬‪‬‪‬‪‬‪‬‪‬‪‬‮‬‫‬‮‬‪‬‪‬‪‬‪‬‪‬‮‬‪‬‮‬‪‬‪‬‪‬‪‬‪‬‮‬‪‬‫‬‪‬‪‬‪‬‪‬‪‬‮‬‫‬‭‬\n",
    "\n",
    "使用turtle库，绘制一个蟒蛇形状的图形。‪‬‪‬‪‬‪‬‪‬‮‬‪‬‭‬‪‬‪‬‪‬‪‬‪‬‮‬‪‬‪‬‪‬‪‬‪‬‪‬‪‬‮‬‫‬‮‬‪‬‪‬‪‬‪‬‪‬‮‬‪‬‮‬‪‬‪‬‪‬‪‬‪‬‮‬‪‬‫‬‪‬‪‬‪‬‪‬‪‬‮‬‫‬‭‬\n",
    "\n",
    "注意：这不是自动评阅题目，仅用于练习，没有评阅。‪‬‪‬‪‬‪‬‪‬‮‬‪‬‭‬‪‬‪‬‪‬‪‬‪‬‮‬‪‬‪‬‪‬‪‬‪‬‪‬‪‬‮‬‫‬‮‬‪‬‪‬‪‬‪‬‪‬‮‬‪‬‮‬‪‬‪‬‪‬‪‬‪‬‮‬‪‬‫‬‪‬‪‬‪‬‪‬‪‬‮‬‫‬‭‬\n",
    "\n",
    " ‪‬‪‬‪‬‪‬‪‬‮‬‪‬‭‬‪‬‪‬‪‬‪‬‪‬‮‬‪‬‪‬‪‬‪‬‪‬‪‬‪‬‮‬‫‬‮‬‪‬‪‬‪‬‪‬‪‬‮‬‪‬‮‬‪‬‪‬‪‬‪‬‪‬‮‬‪‬‫‬‪‬‪‬‪‬‪‬‪‬‮‬‫‬‭\n",
    "输出示例\n",
    "输出效果如下：‪‬‪‬‪‬‪‬‪‬‮‬‪‬‭‬‪‬‪‬‪‬‪‬‪‬‮‬‪‬‪‬‪‬‪‬‪‬‪‬‪‬‮‬‫‬‮‬‪‬‪‬‪‬‪‬‪‬‮‬‪‬‮‬‪‬‪‬‪‬‪‬‪‬‮‬‪‬‫‬‪‬‪‬‪‬‪‬‪‬‮‬‫‬‭‬\n",
    "\n",
    "![python](./pics/python01.png)"
   ]
  },
  {
   "cell_type": "markdown",
   "metadata": {},
   "source": [
    "![python_coding01](./pics/python_coding01.png)\n"
   ]
  },
  {
   "cell_type": "code",
   "execution_count": 1,
   "metadata": {},
   "outputs": [],
   "source": [
    "import turtle\n",
    "turtle.setup(800,800,200,200)\n",
    "turtle.penup()\n",
    "turtle.fd(-250)\n",
    "turtle.pendown()\n",
    "turtle.pensize(10)\n",
    "turtle.pencolor('green')\n",
    "turtle.setheading(-40)\n",
    "for i in range(3):\n",
    "    turtle.circle(40,80)\n",
    "    turtle.circle(-40,80)\n",
    "turtle.circle(40,80/2)\n",
    "turtle.fd(40)\n",
    "turtle.circle(10,180)\n",
    "turtle.fd(40*2/3)\n",
    "turtle.done()"
   ]
  },
  {
   "cell_type": "code",
   "execution_count": 1,
   "metadata": {},
   "outputs": [],
   "source": [
    "from turtle import *\n",
    "setup(800,800,200,200)\n",
    "penup()\n",
    "fd(-250)\n",
    "pendown()\n",
    "pensize(8)\n",
    "pencolor('blue')\n",
    "setheading(-40)\n",
    "for i in range(4):\n",
    "    circle(40,80)\n",
    "    circle(-40,80)\n",
    "circle(40,80/2)\n",
    "fd(40)\n",
    "circle(10,180)\n",
    "fd(40*2/3)\n",
    "done()"
   ]
  },
  {
   "cell_type": "markdown",
   "metadata": {},
   "source": [
    "\n",
    "turtle正方形绘制\n",
    " ‪‬‪‬‪‬‪‬‪‬‮‬‪‬‭‬‪‬‪‬‪‬‪‬‪‬‮‬‪‬‪‬‪‬‪‬‪‬‪‬‪‬‮‬‫‬‮‬‪‬‪‬‪‬‪‬‪‬‮‬‪‬‮‬‪‬‪‬‪‬‪‬‪‬‮‬‪‬‫‬‪‬‪‬‪‬‪‬‪‬‮‬‫‬‭\n",
    "描述\n",
    "使用turtle库，绘制一个正方形。"
   ]
  },
  {
   "cell_type": "code",
   "execution_count": 3,
   "metadata": {},
   "outputs": [],
   "source": [
    "from turtle import *\n",
    "setup(800,800,200,200)\n",
    "penup()\n",
    "fd(-200)\n",
    "pendown()\n",
    "pensize(10)\n",
    "pencolor('yellow')\n",
    "setheading(0)\n",
    "for i in range(4):\n",
    "    fd(100)\n",
    "    right(90)\n",
    "done()\n"
   ]
  },
  {
   "cell_type": "markdown",
   "metadata": {},
   "source": [
    "turtle六边形绘制\n",
    " ‪‬‪‬‪‬‪‬‪‬‮‬‪‬‭‬‪‬‪‬‪‬‪‬‪‬‮‬‪‬‪‬‪‬‪‬‪‬‪‬‪‬‮‬‫‬‮‬‪‬‪‬‪‬‪‬‪‬‮‬‪‬‮‬‪‬‪‬‪‬‪‬‪‬‮‬‪‬‫‬‪‬‪‬‪‬‪‬‪‬‮‬‫‬‭\n",
    "描述\n",
    "使用turtle库，绘制一个六边形。‪‬‪‬‪‬‪‬‪‬‮‬‪‬‭‬‪‬‪‬‪‬‪‬‪‬‮‬‪‬‪‬‪‬‪‬‪‬‪‬‪‬‮‬‫‬‮‬‪‬‪‬‪‬‪‬‪‬‮‬‪‬‮‬‪‬‪‬‪‬‪‬‪‬‮‬‪‬‫‬‪‬‪‬‪‬‪‬‪‬‮‬‫‬‭‬"
   ]
  },
  {
   "cell_type": "code",
   "execution_count": 1,
   "metadata": {},
   "outputs": [],
   "source": [
    "from turtle import *\n",
    "setup(800,800,200,200)\n",
    "penup()\n",
    "fd(-200)\n",
    "pendown()\n",
    "pensize(10)\n",
    "pencolor('grey')\n",
    "setheading(0)\n",
    "for i in range(6):\n",
    "    fd(100)\n",
    "    right(60)\n",
    "done()"
   ]
  },
  {
   "cell_type": "markdown",
   "metadata": {},
   "source": [
    "turtle叠边形绘制\n",
    " ‪‬‪‬‪‬‪‬‪‬‮‬‪‬‭‬‪‬‪‬‪‬‪‬‪‬‮‬‪‬‪‬‪‬‪‬‪‬‪‬‪‬‮‬‫‬‮‬‪‬‪‬‪‬‪‬‪‬‮‬‪‬‮‬‪‬‪‬‪‬‪‬‪‬‮‬‪‬‫‬‪‬‪‬‪‬‪‬‪‬‮‬‫‬‭\n",
    "描述\n",
    "使用turtle库，绘制一个叠边形，其中，叠边形内角为100度。"
   ]
  },
  {
   "cell_type": "code",
   "execution_count": 6,
   "metadata": {},
   "outputs": [
    {
     "ename": "Terminator",
     "evalue": "",
     "output_type": "error",
     "traceback": [
      "\u001b[0;31m---------------------------------------------------------------------------\u001b[0m",
      "\u001b[0;31mTerminator\u001b[0m                                Traceback (most recent call last)",
      "\u001b[0;32m<ipython-input-6-cc007cbaf402>\u001b[0m in \u001b[0;36m<module>\u001b[0;34m()\u001b[0m\n\u001b[1;32m      1\u001b[0m \u001b[0;32mfrom\u001b[0m \u001b[0mturtle\u001b[0m \u001b[0;32mimport\u001b[0m \u001b[0;34m*\u001b[0m\u001b[0;34m\u001b[0m\u001b[0m\n\u001b[0;32m----> 2\u001b[0;31m \u001b[0msetup\u001b[0m\u001b[0;34m(\u001b[0m\u001b[0;36m800\u001b[0m\u001b[0;34m,\u001b[0m\u001b[0;36m800\u001b[0m\u001b[0;34m,\u001b[0m\u001b[0;36m200\u001b[0m\u001b[0;34m,\u001b[0m\u001b[0;36m200\u001b[0m\u001b[0;34m)\u001b[0m\u001b[0;34m\u001b[0m\u001b[0m\n\u001b[0m\u001b[1;32m      3\u001b[0m \u001b[0mpenup\u001b[0m\u001b[0;34m(\u001b[0m\u001b[0;34m)\u001b[0m\u001b[0;34m\u001b[0m\u001b[0m\n\u001b[1;32m      4\u001b[0m \u001b[0mfd\u001b[0m\u001b[0;34m(\u001b[0m\u001b[0;34m-\u001b[0m\u001b[0;36m200\u001b[0m\u001b[0;34m)\u001b[0m\u001b[0;34m\u001b[0m\u001b[0m\n\u001b[1;32m      5\u001b[0m \u001b[0mpendown\u001b[0m\u001b[0;34m(\u001b[0m\u001b[0;34m)\u001b[0m\u001b[0;34m\u001b[0m\u001b[0m\n",
      "\u001b[0;32m~/anaconda3/lib/python3.6/turtle.py\u001b[0m in \u001b[0;36msetup\u001b[0;34m(width, height, startx, starty)\u001b[0m\n",
      "\u001b[0;31mTerminator\u001b[0m: "
     ]
    }
   ],
   "source": [
    "from turtle import *\n",
    "setup(800,800,200,200)\n",
    "penup()\n",
    "fd(-200)\n",
    "pendown()\n",
    "pensize(10)\n",
    "pencolor('grey')\n",
    "setheading(0)\n",
    "for i in range(9):\n",
    "    fd(100)\n",
    "    right(80)\n",
    "done()"
   ]
  },
  {
   "cell_type": "code",
   "execution_count": 7,
   "metadata": {},
   "outputs": [
    {
     "ename": "IndentationError",
     "evalue": "unexpected indent (<ipython-input-7-2da7fd8ef458>, line 2)",
     "output_type": "error",
     "traceback": [
      "\u001b[0;36m  File \u001b[0;32m\"<ipython-input-7-2da7fd8ef458>\"\u001b[0;36m, line \u001b[0;32m2\u001b[0m\n\u001b[0;31m    ‪‬‪‬‪‬‪‬‪‬‮‬‪‬‭‬‪‬‪‬‪‬‪‬‪‬‮‬‪‬‪‬‪‬‪‬‪‬‪‬‪‬‮‬‫‬‮‬‪‬‪‬‪‬‪‬‪‬‮‬‪‬‮‬‪‬‪‬‪‬‪‬‪‬‮‬‪‬‫‬‪‬‪‬‪‬‪‬‪‬‮‬‫‬‭‬\u001b[0m\n\u001b[0m    ^\u001b[0m\n\u001b[0;31mIndentationError\u001b[0m\u001b[0;31m:\u001b[0m unexpected indent\n"
     ]
    }
   ],
   "source": [
    "turtle风轮绘制\n",
    " ‪‬‪‬‪‬‪‬‪‬‮‬‪‬‭‬‪‬‪‬‪‬‪‬‪‬‮‬‪‬‪‬‪‬‪‬‪‬‪‬‪‬‮‬‫‬‮‬‪‬‪‬‪‬‪‬‪‬‮‬‪‬‮‬‪‬‪‬‪‬‪‬‪‬‮‬‪‬‫‬‪‬‪‬‪‬‪‬‪‬‮‬‫‬‭‬\n",
    "\n",
    "描述\n",
    "使用turtle库，绘制一个风轮效果，其中，每个风轮内角为45度，风轮边长150像素。"
   ]
  },
  {
   "cell_type": "code",
   "execution_count": null,
   "metadata": {},
   "outputs": [],
   "source": [
    "from turtle import *\n",
    "setup(800,800,200,200)\n",
    "pendown()\n",
    "pensize(2)\n",
    "pencolor('grey')\n",
    "setheading(0)\n",
    "for i in range(1):\n",
    "    fd(150)\n",
    "    setheading(90)\n",
    "    circle(150,45)\n",
    "    goto(0,0)\n",
    "    setheading(-135)\n",
    "    fd(150)\n",
    "    setheading(-45)\n",
    "    circle(150,-45)\n",
    "    goto(0,0)\n",
    "    fd(150)\n",
    "    setheading(0)\n",
    "    circle(150,45)\n",
    "    goto(0,0)\n",
    "    setheading(90)\n",
    "    fd(150)\n",
    "    setheading(-180)\n",
    "    circle(150,45)\n",
    "    goto(0,0)\n",
    "done()"
   ]
  },
  {
   "cell_type": "code",
   "execution_count": 73,
   "metadata": {},
   "outputs": [],
   "source": [
    "from turtle import *\n",
    "setup(800,800,200,200)\n",
    "pendown()\n",
    "pensize(2)\n",
    "pencolor('grey')\n",
    "home()\n",
    "\n",
    "setheading(0)\n",
    "fd(150)\n",
    "setheading(90)\n",
    "circle(150, -45)\n",
    "home()\n",
    "\n",
    "setheading(-90)\n",
    "fd(150)\n",
    "setheading(0)\n",
    "circle(150,-45)\n",
    "home()\n",
    "\n",
    "setheading(-180)\n",
    "fd(150)\n",
    "setheading(-90)\n",
    "circle(150,-45)\n",
    "home()\n",
    "\n",
    "setheading(-270)\n",
    "fd(150)\n",
    "setheading(-180)\n",
    "circle(150,-45)\n",
    "home()\n",
    "\n",
    "done()"
   ]
  },
  {
   "cell_type": "code",
   "execution_count": 85,
   "metadata": {},
   "outputs": [],
   "source": [
    "from turtle import *\n",
    "setup(800,800,200,200)\n",
    "pendown()\n",
    "pensize(2)\n",
    "pencolor('grey')\n",
    "home()\n",
    "\n",
    "for i in range(8):\n",
    "    head1 = -i * 45\n",
    "    setheading(head1)\n",
    "    fd(150)\n",
    "    setheading(head1 + 90)\n",
    "    circle(150, 20)\n",
    "    home()\n",
    "done()"
   ]
  },
  {
   "cell_type": "code",
   "execution_count": 3,
   "metadata": {},
   "outputs": [],
   "source": [
    "from turtle import *\n",
    "setup(800,800,200,200)\n",
    "pendown()\n",
    "pensize(2)\n",
    "pencolor('grey')\n",
    "home()\n",
    "\n",
    "def draw_2(n):\n",
    "    for i in range(n):\n",
    "        a = 360 / n\n",
    "        b = 360 / (n * 2)\n",
    "        \n",
    "        head1 = -i * a\n",
    "        setheading(head1)\n",
    "        fd(150)\n",
    "        setheading(head1 + 90)\n",
    "        circle(150, b)\n",
    "        home()\n",
    "draw_2(18)\n",
    "done()"
   ]
  },
  {
   "cell_type": "code",
   "execution_count": null,
   "metadata": {},
   "outputs": [],
   "source": [
    "import turtle as t\n",
    "setup(800,800,200,200)\n",
    "pendown()\n",
    "pensize(2)\n",
    "pencolor('grey')\n",
    "home()\n",
    "\n",
    "for i in range(8):\n",
    "    t.fd(150)\n",
    "    t.left(135)\n",
    "\n",
    "done()"
   ]
  },
  {
   "cell_type": "code",
   "execution_count": null,
   "metadata": {},
   "outputs": [],
   "source": []
  },
  {
   "cell_type": "code",
   "execution_count": null,
   "metadata": {},
   "outputs": [],
   "source": []
  },
  {
   "cell_type": "code",
   "execution_count": null,
   "metadata": {},
   "outputs": [],
   "source": []
  }
 ],
 "metadata": {
  "kernelspec": {
   "display_name": "Python 3",
   "language": "python",
   "name": "python3"
  },
  "language_info": {
   "codemirror_mode": {
    "name": "ipython",
    "version": 3
   },
   "file_extension": ".py",
   "mimetype": "text/x-python",
   "name": "python",
   "nbconvert_exporter": "python",
   "pygments_lexer": "ipython3",
   "version": "3.6.5"
  }
 },
 "nbformat": 4,
 "nbformat_minor": 2
}
