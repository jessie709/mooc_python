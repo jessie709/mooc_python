{
 "cells": [
  {
   "cell_type": "code",
   "execution_count": 29,
   "metadata": {},
   "outputs": [
    {
     "name": "stdout",
     "output_type": "stream",
     "text": [
      "['\\n', 'The Tragedy of Hamlet, Prince of Denmark\\n']\n"
     ]
    }
   ],
   "source": [
    "# open file by text\n",
    "\n",
    "tf = open('./pics/hamlet.txt',\"r\")\n",
    "s = tf.readlines(4)\n",
    "print(s)\n",
    "# tf.close()\n"
   ]
  },
  {
   "cell_type": "code",
   "execution_count": 1,
   "metadata": {},
   "outputs": [],
   "source": [
    "# AutoTraceDrew.py\n",
    "\n",
    "import turtle as t\n",
    "t.title(\"自动生成轨迹\")\n",
    "t.setup(800,600,0,0)\n",
    "t.pencolor(\"red\")\n",
    "t.pensize(5)\n",
    "t.pendown(-400,-300)\n",
    "\n",
    "# 读取数据\n",
    "\n",
    "datals = []\n",
    "f = open('./pics/datals.txt')\n",
    "for line in f:\n",
    "    line = line.replace('\\n','')\n",
    "    datals.append(list(map(eval, line.split(','))))\n",
    "f.close()\n",
    "\n",
    "# 自动绘图\n",
    "\n",
    "for i in range(len(datals)):\n",
    "    t.pencolor(datals[i][3],datals[i][4],datals[i][5])\n",
    "    t.fd(datals[i][0])\n",
    "    if datals[i][1]:\n",
    "        t.right(datals[i][2])\n",
    "    else:\n",
    "        t.left(datals[i][2])"
   ]
  },
  {
   "cell_type": "code",
   "execution_count": null,
   "metadata": {},
   "outputs": [],
   "source": []
  },
  {
   "cell_type": "code",
   "execution_count": null,
   "metadata": {},
   "outputs": [],
   "source": []
  }
 ],
 "metadata": {
  "kernelspec": {
   "display_name": "Python 3",
   "language": "python",
   "name": "python3"
  },
  "language_info": {
   "codemirror_mode": {
    "name": "ipython",
    "version": 3
   },
   "file_extension": ".py",
   "mimetype": "text/x-python",
   "name": "python",
   "nbconvert_exporter": "python",
   "pygments_lexer": "ipython3",
   "version": "3.6.5"
  }
 },
 "nbformat": 4,
 "nbformat_minor": 2
}
