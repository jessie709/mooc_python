{
 "cells": [
  {
   "cell_type": "code",
   "execution_count": null,
   "metadata": {},
   "outputs": [],
   "source": [
    "from matplotlib import pyplot as plt \n",
    "import numpy as np \n",
    "\n",
    "x = np.arange(-2 * np.pi, 2 * np.pi, 0.1)\n",
    "y = np.sin(x)\n",
    "plt.plot(x,y)\n",
    "plt.xlim(-2*np.pi, 2 * np.pi)\n",
    "plt.ylim(-1,1)\n",
    "plt.title('y = sin(x)')\n",
    "plt.show( )\n"
   ]
  },
  {
   "cell_type": "code",
   "execution_count": null,
   "metadata": {},
   "outputs": [],
   "source": [
    "import time\n",
    "print(time.localtime())\n",
    "\n",
    "try:\n",
    "  file = open('q','b')\n",
    "except Exception as e:\n",
    "  print('there is no file name as b')\n"
   ]
  },
  {
   "cell_type": "code",
   "execution_count": null,
   "metadata": {},
   "outputs": [],
   "source": [
    "string= \"test\"\n",
    "number = 1\n",
    "\n",
    "print(\"change the upper and lower case\")\n",
    "print(string.title())\n",
    "print(string.upper())\n",
    "print(string.lower())\n",
    "print('\\n')\n",
    "\n",
    "print('insert the teb')\n",
    "print('\\t'+ string)\n",
    "print(\"clera the space\")\n",
    "print(string.strip())\n"
   ]
  },
  {
   "cell_type": "code",
   "execution_count": null,
   "metadata": {},
   "outputs": [],
   "source": [
    "listT1 = ['a','b','c','d','e','f']\n",
    "listT1.append('g')\n",
    "listT1.insert(0,'0')\n",
    "print(listT1)\n",
    "\n",
    "tupleT1 = (0,1,2,5,4,\"apple\")\n",
    "print(tupleT1[5])\n",
    "\n",
    "for x in listT1:\n",
    "  print(x)\n",
    "for y in range(1,5):\n",
    "  print(y)\n",
    "for z in range(1,11,2):\n",
    "  print(z)\n",
    "\n",
    "listT2 = [w**2 for i in the range(1,5)]\n",
    "print(listT2)"
   ]
  }
 ],
 "metadata": {
  "kernelspec": {
   "display_name": "Python 3",
   "language": "python",
   "name": "python3"
  },
  "language_info": {
   "codemirror_mode": {
    "name": "ipython",
    "version": 3
   },
   "file_extension": ".py",
   "mimetype": "text/x-python",
   "name": "python",
   "nbconvert_exporter": "python",
   "pygments_lexer": "ipython3",
   "version": "3.6.5"
  }
 },
 "nbformat": 4,
 "nbformat_minor": 2
}
