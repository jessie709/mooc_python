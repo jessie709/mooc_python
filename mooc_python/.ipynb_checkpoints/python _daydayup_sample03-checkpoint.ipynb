{
 "cells": [
  {
   "cell_type": "markdown",
   "metadata": {},
   "source": [
    "#  daydayupQ1.py"
   ]
  },
  {
   "cell_type": "code",
   "execution_count": 1,
   "metadata": {},
   "outputs": [
    {
     "name": "stdout",
     "output_type": "stream",
     "text": [
      "向上:1.44,向下0.69\n"
     ]
    }
   ],
   "source": [
    "dayup = pow(1.001,365)\n",
    "daydown = pow(0.999,365)\n",
    "print(\"向上:{:.2f},向下{:.2f}\".format(dayup,daydown))"
   ]
  },
  {
   "cell_type": "markdown",
   "metadata": {},
   "source": [
    "#  daydayupQ2.py"
   ]
  },
  {
   "cell_type": "code",
   "execution_count": 3,
   "metadata": {},
   "outputs": [
    {
     "name": "stdout",
     "output_type": "stream",
     "text": [
      "向上:37.78,向下:0.03\n"
     ]
    }
   ],
   "source": [
    "dayfactor = 0.01\n",
    "dayup = pow(1+dayfactor,365)\n",
    "daydown = pow(1-dayfactor,365)\n",
    "print('向上:{:.2f},向下:{:.2f}'.format(dayup,daydown))"
   ]
  },
  {
   "cell_type": "markdown",
   "metadata": {},
   "source": [
    "#  daydayupQ3.py\n"
   ]
  },
  {
   "cell_type": "code",
   "execution_count": 19,
   "metadata": {},
   "outputs": [
    {
     "name": "stdout",
     "output_type": "stream",
     "text": [
      "工作日的力量:4.63\n"
     ]
    }
   ],
   "source": [
    "dayup = 1.0\n",
    "dayfactor = 0.01\n",
    "for i in range(365):\n",
    "    if i % 7 in [6,0]:\n",
    "        dayup = dayup * (1-dayfactor)\n",
    "    else:\n",
    "        dayup = dayup * (1+dayfactor)\n",
    "    \n",
    "print('工作日的力量:{:.2f}'.format(dayup))"
   ]
  },
  {
   "cell_type": "markdown",
   "metadata": {},
   "source": [
    "#  daydayupupQ4.py"
   ]
  },
  {
   "cell_type": "code",
   "execution_count": 32,
   "metadata": {},
   "outputs": [
    {
     "name": "stdout",
     "output_type": "stream",
     "text": [
      "levin     的工作日努力的力量:0.0190\n"
     ]
    }
   ],
   "source": [
    "def dayUP(df):\n",
    "    dayup=1\n",
    "    for i in range(356):\n",
    "        if i%7 in [6,0]:\n",
    "            dayup = dayup*(1-0.01)\n",
    "        else:\n",
    "            dayup = dayup*(1+ df)\n",
    "    return dayup\n",
    "\n",
    "dayfactor = 0.01\n",
    "while dayUP(dayfactor)<37.78:\n",
    "    dayfactor +=0.001\n",
    "my_name = 'levin'\n",
    "    \n",
    "print(\"{1:<10}的工作日努力的力量:{0:.4f}\".format(dayfactor, my_name))"
   ]
  },
  {
   "cell_type": "markdown",
   "metadata": {},
   "source": [
    "#  string rules\n",
    "![1](./pics/string rules.png)\n"
   ]
  },
  {
   "cell_type": "markdown",
   "metadata": {},
   "source": [
    "#  weeknameprintV1.py"
   ]
  },
  {
   "cell_type": "code",
   "execution_count": null,
   "metadata": {},
   "outputs": [],
   "source": [
    "wkstring = '星期一星期二星期三星期四星期五星期六星期七'\n",
    "wkid = eval(input(\"请输入星期数字(1-7):\"))\n",
    "pos = (wkid-1)*3\n",
    "    \n",
    "print(wkstring[pos: pos+3])\n"
   ]
  },
  {
   "cell_type": "code",
   "execution_count": null,
   "metadata": {},
   "outputs": [],
   "source": [
    "wkstr = \"一二三四五六七\"\n",
    "wkID = eval(inprut('请输入星期数字(1-7):'))\n",
    "print('星期' + wkstr[wkID-1])"
   ]
  },
  {
   "cell_type": "markdown",
   "metadata": {},
   "source": [
    "# TextProBarV1.py"
   ]
  },
  {
   "cell_type": "code",
   "execution_count": 37,
   "metadata": {},
   "outputs": [
    {
     "name": "stdout",
     "output_type": "stream",
     "text": [
      "----- 执行开始 -----\n",
      " 0 %[->..........]\n",
      "10 %[*->.........]\n",
      "20 %[**->........]\n",
      "30 %[***->.......]\n",
      "40 %[****->......]\n",
      "50 %[*****->.....]\n",
      "60 %[******->....]\n",
      "70 %[*******->...]\n",
      "80 %[********->..]\n",
      "90 %[*********->.]\n",
      "100%[**********->]\n",
      "----- 执行结束 -----\n"
     ]
    }
   ],
   "source": [
    "import time\n",
    "scale = 10\n",
    "# print('-----执行开始-----', end='')\n",
    "print('-'*5, '执行开始', '-'*5)\n",
    "\n",
    "for i in range(scale+1):\n",
    "    a = '*' * i\n",
    "    b = '.' * (scale-i)\n",
    "    c = (i/scale)*100\n",
    "\n",
    "    print('{:^3.0f}%[{}->{}]'.format(c,a,b))\n",
    "    time.sleep(0.5)\n",
    "print('-'*5,\"执行结束\",'-'*5)"
   ]
  },
  {
   "cell_type": "code",
   "execution_count": 30,
   "metadata": {},
   "outputs": [
    {
     "name": "stdout",
     "output_type": "stream",
     "text": [
      "100%"
     ]
    }
   ],
   "source": [
    "import time\n",
    "for i in range (101):\n",
    "#     time.sleep(0.03)\n",
    "    print(\"\\r{:3}%\".format(i), end=\"\")\n",
    "    time.sleep(0.03)"
   ]
  },
  {
   "cell_type": "code",
   "execution_count": 155,
   "metadata": {},
   "outputs": [
    {
     "name": "stdout",
     "output_type": "stream",
     "text": [
      "-----------执行开始----------\n",
      "100%[**************************************************->]10s\n",
      " -----------执行结束----------\n"
     ]
    }
   ],
   "source": [
    "import time\n",
    "scale = 50\n",
    "print('执行开始'.center(scale//2,'-'))\n",
    "\n",
    "start = time.perf_counter()\n",
    "for i in range (scale+1):\n",
    "    a = '*'*i\n",
    "    b = '-'*(scale - i)\n",
    "    c = (i/scale)*100\n",
    "    dur = time.perf_counter() - start\n",
    "    print('\\r{:^3.0f}%[{}->{}]{:2.0f}s'.format(c,a,b,dur),end=\"\")\n",
    "    time.sleep(0.2)\n",
    "print('\\n','执行结束'.center(scale//2,'-'))"
   ]
  },
  {
   "cell_type": "code",
   "execution_count": 27,
   "metadata": {},
   "outputs": [
    {
     "name": "stdout",
     "output_type": "stream",
     "text": [
      "工作的努力参数是:\n",
      "0.019\n"
     ]
    }
   ],
   "source": [
    "#  daydayup356\n",
    "def dayUP(df):\n",
    "    dayup=1\n",
    "    for i in range(365):\n",
    "        if i%7 in [6,0]:\n",
    "            dayup = dayup*(1-0.01)\n",
    "        else:\n",
    "            dayup = dayup*(1 + df)\n",
    "    return dayup\n",
    "\n",
    "dayfactor = 0.01\n",
    "while dayUP(dayfactor)<37.78:\n",
    "    dayfactor +=0.001\n",
    "\n",
    "print('工作的努力参数是:\\n{0:.3f}'.format(dayfactor))"
   ]
  },
  {
   "cell_type": "markdown",
   "metadata": {},
   "source": [
    "# 三次方格式化\n",
    "描述\n",
    "获得用户输入的一个数字，可能是整数或浮点数，a，计算a的三次方值，并打印输出。‪‬‪‬‪‬‪‬‪‬‮‬‪‬‭‬‪‬‪‬‪‬‪‬‪‬‮‬‪‬‪‬‪‬‪‬‪‬‪‬‪‬‮‬‫‬‮‬‪‬‪‬‪‬‪‬‪‬‮‬‪‬‮‬‪‬‪‬‪‬‪‬‪‬‮‬‪‬‫‬‪‬‪‬‪‬‪‬‪‬‮‬‫‬‭‬\n",
    "\n",
    "输出结果采用宽度20个字符、居中输出、多余字符采用减号(-)填充。‪‬‪‬‪‬‪‬‪‬‮‬‪‬‭‬‪‬‪‬‪‬‪‬‪‬‮‬‪‬‪‬‪‬‪‬‪‬‪‬‪‬‮‬‫‬‮‬‪‬‪‬‪‬‪‬‪‬‮‬‪‬‮‬‪‬‪‬‪‬‪‬‪‬‮‬‪‬‫‬‪‬‪‬‪‬‪‬‪‬‮‬‫‬‭‬\n",
    "\n",
    "如果结果超过20个字符，则以结果宽度为准。"
   ]
  },
  {
   "cell_type": "code",
   "execution_count": 87,
   "metadata": {},
   "outputs": [
    {
     "name": "stdout",
     "output_type": "stream",
     "text": [
      "3\n",
      "------- 8.0 -------\n",
      "--------------------\n"
     ]
    }
   ],
   "source": [
    "import math\n",
    "x = input('please enter a number: ')\n",
    "tmp = round(math.pow(x,3), 5)\n",
    "numb = len(str(tmp))\n",
    "print(\"-\"*((20-numb)//2 - 1), \"{:}\".format(tmp),\"-\"*((20-numb)//2 - 1))\n",
    "print('-'*20)"
   ]
  },
  {
   "cell_type": "code",
   "execution_count": 125,
   "metadata": {},
   "outputs": [
    {
     "name": "stdout",
     "output_type": "stream",
     "text": [
      "-------35937--------\n",
      "********************\n"
     ]
    }
   ],
   "source": [
    "import math\n",
    "# x = input('please enter a number: ')\n",
    "x = 33\n",
    "tmp = math.pow(float(x), 3)\n",
    "tmp = '{:.0f}'.format(tmp)\n",
    "length = len(str(tmp))\n",
    "if length > 20:\n",
    "    print(tmp)\n",
    "else:\n",
    "    print(str(tmp).center(20, '-'))\n",
    "print('*'*20)\n"
   ]
  },
  {
   "cell_type": "code",
   "execution_count": 118,
   "metadata": {},
   "outputs": [
    {
     "data": {
      "text/plain": [
       "'1'"
      ]
     },
     "execution_count": 118,
     "metadata": {},
     "output_type": "execute_result"
    }
   ],
   "source": [
    "'{:.0f}'.format(0.7)"
   ]
  },
  {
   "cell_type": "markdown",
   "metadata": {},
   "source": [
    "# 星号三角形\n",
    "描述\n",
    "读入一个整数N，N是奇数，输出由星号字符组成的等边三角形，要求：‪‬‪‬‪‬‪‬‪‬‮‬‫‬‫‬‪‬‪‬‪‬‪‬‪‬‮‬‭‬‪‬‪‬‪‬‪‬‪‬‪‬‮‬‪‬‭‬‪‬‪‬‪‬‪‬‪‬‮‬‪‬‪‬‪‬‪‬‪‬‪‬‪‬‮‬‫‬‮‬‪‬‪‬‪‬‪‬‪‬‮‬‪‬‮‬‪‬‪‬‪‬‪‬‪‬‮‬‪‬‫‬‪‬‪‬‪‬‪‬‪‬‮‬‫‬‭‬\n",
    "\n",
    "第1行1个星号，第2行3个星号，第3行5个星号，依次类推，最后一行共N的星号。‪‬‪‬‪‬‪‬‪‬‮‬‫‬‫‬‪‬‪‬‪‬‪‬‪‬‮‬‭‬‪‬"
   ]
  },
  {
   "cell_type": "code",
   "execution_count": 149,
   "metadata": {},
   "outputs": [
    {
     "name": "stdout",
     "output_type": "stream",
     "text": [
      "  *  \n",
      " *** \n",
      "*****\n"
     ]
    }
   ],
   "source": [
    "N = '5'\n",
    "# N = input()\n",
    "N = int(N)\n",
    "L = N // 2 + 1\n",
    "\n",
    "for i in range(1, L+1):\n",
    "    num = i + (i - 1)\n",
    "    print(('*'*num).center(N))"
   ]
  },
  {
   "cell_type": "code",
   "execution_count": null,
   "metadata": {},
   "outputs": [],
   "source": [
    "# 恺撒密码\n",
    " ‪‬‪‬‪‬‪‬‪‬‮‬‪‬‭‬‪‬‪‬‪‬‪‬‪‬‮‬‪‬‪‬‪‬‪‬‪‬‪‬‪‬‮‬‫‬‮‬‪‬‪‬‪‬‪‬‪‬‮‬‪‬‮‬‪‬‪‬‪‬‪‬‪‬‮‬‪‬‫‬‪‬‪‬‪‬‪‬‪‬‮‬‫‬‭‬\n",
    "描述\n",
    "恺撒密码是古罗马恺撒大帝用来对军事情报进行加解密的算法，它采用了替换方法对信息中的每一个英文字符循环替换为字母表序列中该字符后面的第三个字符，即，字母表的对应关系如下：‪‬‪‬‪‬‪‬‪‬‮‬‪‬‭‬‪‬‪‬‪‬‪‬‪‬‮‬‪‬‪‬‪‬‪‬‪‬‪‬‪‬‮‬‫‬‮‬‪‬‪‬‪‬‪‬‪‬‮‬‪‬‮‬‪‬‪‬‪‬‪‬‪‬‮‬‪‬‫‬‪‬‪‬‪‬‪‬‪‬‮‬‫‬‭‬\n",
    "\n",
    "原文：A B C D E F G H I J K L M N O P Q R S T U V W X Y Z‪‬‪‬‪‬‪‬‪‬‮‬‪‬‭‬‪‬‪‬‪‬‪‬‪‬‮‬‪‬‪‬‪‬‪‬‪‬‪‬‪‬‮‬‫‬‮‬‪‬‪‬‪‬‪‬‪‬‮‬‪‬‮‬‪‬‪‬‪‬‪‬‪‬‮‬‪‬‫‬‪‬‪‬‪‬‪‬‪‬‮‬‫‬‭‬\n",
    "\n",
    "密文：D E F G H I J K L M N O P Q R S T U V W X Y Z A B C‪‬‪‬‪‬‪‬‪‬‮‬‪‬‭‬‪‬‪‬‪‬‪‬‪‬‮‬‪‬‪‬‪‬‪‬‪‬‪‬‪‬‮‬‫‬‮‬‪‬‪‬‪‬‪‬‪‬‮‬‪‬‮‬‪‬‪‬‪‬‪‬‪‬‮‬‪‬‫‬‪‬‪‬‪‬‪‬‪‬‮‬‫‬‭‬\n",
    "\n",
    "对于原文字符P，其密文字符C满足如下条件：C=(P+3) mod 26‪‬‪‬‪‬‪‬‪‬‮‬‪‬‭‬‪‬‪‬‪‬‪‬‪‬‮‬‪‬‪‬‪‬‪‬‪‬‪‬‪‬‮‬‫‬‮‬‪‬‪‬‪‬‪‬‪‬‮‬‪‬‮‬‪‬‪‬‪‬‪‬‪‬‮‬‪‬‫‬‪‬‪‬‪‬‪‬‪‬‮‬‫‬‭‬\n",
    "\n",
    "上述是凯撒密码的加密方法，解密方法反之，即：P=(C-3) mod 26‪‬‪‬‪‬‪‬‪‬‮‬‪‬‭‬‪‬‪‬‪‬‪‬‪‬‮‬‪‬‪‬‪‬‪‬‪‬‪‬‪‬‮‬‫‬‮‬‪‬‪‬‪‬‪‬‪‬‮‬‪‬‮‬‪‬‪‬‪‬‪‬‪‬‮‬‪‬‫‬‪‬‪‬‪‬‪‬‪‬‮‬‫‬‭‬\n",
    "\n",
    "假设用户可能使用的输入包含大小写字母a~zA~Z、空格和特殊符号，请编写一个程序，对输入字符串进行恺撒密码加密，直接输出结果，其中空格不用进行加密处理。使用input()获得输入。"
   ]
  },
  {
   "cell_type": "code",
   "execution_count": 163,
   "metadata": {},
   "outputs": [
    {
     "name": "stdout",
     "output_type": "stream",
     "text": [
      "c\n",
      "f"
     ]
    }
   ],
   "source": [
    "p = 'abcdefghijklmnopqrstuvwxyz'\n",
    "n = input(\"\")\n",
    "for i in  n:\n",
    "    if i==' ':\n",
    "        print(' ', end='')\n",
    "    else:\n",
    "        a = p.index(i)\n",
    "        b = (a+3)%26\n",
    "        print(p[b], end = '')"
   ]
  },
  {
   "cell_type": "code",
   "execution_count": 162,
   "metadata": {},
   "outputs": [
    {
     "name": "stdout",
     "output_type": "stream",
     "text": [
      "c\n",
      "z"
     ]
    }
   ],
   "source": [
    "c = 'abcdefghijklmnopqrstuvwxyzABCDEFGHIJKLMNOPQRSTUVWXYZ'\n",
    "n = input(\"\")\n",
    "for i in  n:\n",
    "    if i==' ':\n",
    "        print(' ', end='')\n",
    "    else:\n",
    "        a = c.index(i)\n",
    "        b = (a-3)%26\n",
    "        print(c[b], end = '')"
   ]
  },
  {
   "cell_type": "code",
   "execution_count": 7,
   "metadata": {},
   "outputs": [
    {
     "name": "stdout",
     "output_type": "stream",
     "text": [
      "System286\n",
      "Pvpqbj"
     ]
    },
    {
     "ename": "ValueError",
     "evalue": "substring not found",
     "output_type": "error",
     "traceback": [
      "\u001b[0;31m---------------------------------------------------------------------------\u001b[0m",
      "\u001b[0;31mValueError\u001b[0m                                Traceback (most recent call last)",
      "\u001b[0;32m<ipython-input-7-310aae8ce1c3>\u001b[0m in \u001b[0;36m<module>\u001b[0;34m()\u001b[0m\n\u001b[1;32m     10\u001b[0m         \u001b[0mprint\u001b[0m\u001b[0;34m(\u001b[0m\u001b[0mc\u001b[0m\u001b[0;34m[\u001b[0m\u001b[0mb\u001b[0m\u001b[0;34m]\u001b[0m\u001b[0;34m,\u001b[0m \u001b[0mend\u001b[0m \u001b[0;34m=\u001b[0m \u001b[0;34m''\u001b[0m\u001b[0;34m)\u001b[0m\u001b[0;34m\u001b[0m\u001b[0m\n\u001b[1;32m     11\u001b[0m     \u001b[0;32melse\u001b[0m\u001b[0;34m:\u001b[0m\u001b[0;34m\u001b[0m\u001b[0m\n\u001b[0;32m---> 12\u001b[0;31m         \u001b[0ma\u001b[0m \u001b[0;34m=\u001b[0m \u001b[0mC\u001b[0m\u001b[0;34m.\u001b[0m\u001b[0mindex\u001b[0m\u001b[0;34m(\u001b[0m\u001b[0mi\u001b[0m\u001b[0;34m)\u001b[0m\u001b[0;34m\u001b[0m\u001b[0m\n\u001b[0m\u001b[1;32m     13\u001b[0m         \u001b[0mb\u001b[0m \u001b[0;34m=\u001b[0m \u001b[0;34m(\u001b[0m\u001b[0ma\u001b[0m\u001b[0;34m-\u001b[0m\u001b[0;36m3\u001b[0m\u001b[0;34m)\u001b[0m\u001b[0;34m%\u001b[0m\u001b[0;36m26\u001b[0m\u001b[0;34m\u001b[0m\u001b[0m\n\u001b[1;32m     14\u001b[0m         \u001b[0mprint\u001b[0m\u001b[0;34m(\u001b[0m\u001b[0mC\u001b[0m\u001b[0;34m[\u001b[0m\u001b[0mb\u001b[0m\u001b[0;34m]\u001b[0m\u001b[0;34m,\u001b[0m \u001b[0mend\u001b[0m \u001b[0;34m=\u001b[0m \u001b[0;34m''\u001b[0m\u001b[0;34m)\u001b[0m\u001b[0;34m\u001b[0m\u001b[0m\n",
      "\u001b[0;31mValueError\u001b[0m: substring not found"
     ]
    }
   ],
   "source": [
    "c = 'abcdefghijklmnopqrstuvwxyz'\n",
    "C = \"ABCDEFGHIJKLMNOPQRSTUVWXYZ\"\n",
    "n = input(\"\")\n",
    "for i in n:\n",
    "    if i==' ':\n",
    "        print(' ', end='')\n",
    "    elif i in c: \n",
    "        a = c.index(i)\n",
    "        b = (a-3)%26\n",
    "        print(c[b], end = '')\n",
    "    else:\n",
    "        a = C.index(i)\n",
    "        b = (a-3)%26\n",
    "        print(C[b], end = '')"
   ]
  },
  {
   "cell_type": "code",
   "execution_count": 18,
   "metadata": {},
   "outputs": [
    {
     "name": "stdout",
     "output_type": "stream",
     "text": [
      "System 123\n",
      "PvpqbjSystem 123\n",
      "System 123\n",
      "System 123\n",
      "System 123\n"
     ]
    }
   ],
   "source": [
    "C = \"ABCDEFGHIJKLMNOPQRSTUVWXYZ\"\n",
    "c = 'abcdefghijklmnopqrstuvwxyz'\n",
    "\n",
    "n = input(\"\")\n",
    "\n",
    "for i in n:\n",
    "    if i in C:\n",
    "        a = C.index(i)\n",
    "        b = (a-3)%26\n",
    "        print(C[b], end = '')\n",
    "    elif i in c: \n",
    "        a = c.index(i)\n",
    "        b = (a-3)%26\n",
    "        print(c[b], end = '')\n",
    "    else:\n",
    "        print(i, end = '')"
   ]
  },
  {
   "cell_type": "code",
   "execution_count": null,
   "metadata": {},
   "outputs": [],
   "source": []
  }
 ],
 "metadata": {
  "kernelspec": {
   "display_name": "Python 3",
   "language": "python",
   "name": "python3"
  },
  "language_info": {
   "codemirror_mode": {
    "name": "ipython",
    "version": 3
   },
   "file_extension": ".py",
   "mimetype": "text/x-python",
   "name": "python",
   "nbconvert_exporter": "python",
   "pygments_lexer": "ipython3",
   "version": "3.6.5"
  }
 },
 "nbformat": 4,
 "nbformat_minor": 2
}
