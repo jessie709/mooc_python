{
 "cells": [
  {
   "cell_type": "code",
   "execution_count": 6,
   "metadata": {},
   "outputs": [
    {
     "data": {
      "text/plain": [
       "(8, 2, (2, 2))"
      ]
     },
     "execution_count": 6,
     "metadata": {},
     "output_type": "execute_result"
    }
   ],
   "source": [
    "def fact(n, *b):\n",
    "    s = 1\n",
    "    for i in range(1,n+1):\n",
    "        s *=i\n",
    "    for item in b:\n",
    "        s *=item\n",
    "    return s,n,b\n",
    "\n",
    "fact(2,2,2)"
   ]
  },
  {
   "cell_type": "markdown",
   "metadata": {},
   "source": [
    "# 七段数码管的显示"
   ]
  },
  {
   "cell_type": "code",
   "execution_count": 1,
   "metadata": {},
   "outputs": [],
   "source": [
    "import turtle \n",
    "def drawGap():\n",
    "    turtle.penup()\n",
    "    turtle.fd(5)\n",
    "def drawLine(draw): #绘制单段管\n",
    "    drawGap()\n",
    "    turtle.pendown() if draw else turtle.penup()\n",
    "    turtle.fd(40)\n",
    "    drawGap()\n",
    "    turtle.right(90)\n",
    "def drawDigit(digit):# 根据数字绘制七段数码管\n",
    "    drawLine(True) if digit in [2,3,4,5,6,8,9] else drawLine(False)\n",
    "    drawLine(True) if digit in [0,1,3,4,5,6,7,8,9] else drawLine(False)\n",
    "    drawLine(True) if digit in [0,2,3,4,5,6,7,8,9] else drawLine(False)\n",
    "    drawLine(True) if digit in [0,2,6,8] else drawLine(False)\n",
    "    turtle.left(90)\n",
    "    drawLine(True) if digit in [0,4,5,6,8,9] else drawLine(False)\n",
    "    drawLine(True) if digit in [0,2,3,5,6,7,8,9] else drawLine(False)\n",
    "    drawLine(True) if digit in [0,1,2,3,4,7,8,9] else drawLine(False)\n",
    "    turtle.left(180)\n",
    "    turtle.penup()\n",
    "    turtle.fd(20)\n",
    "    \n",
    "def drawData(data): #获取输出的数字\n",
    "    turtle.pencolor('blue')\n",
    "    for i in data:\n",
    "        if i ==\"-\":\n",
    "            turtle.write('年',font = ('Arial',18,'normal'))\n",
    "            turtle.pencolor('red')\n",
    "            turtle.fd(40)\n",
    "        elif i=='=':\n",
    "            turtle.write('月',font = ('Arial',18,'normal'))\n",
    "            turtle.pencolor('yellow')  \n",
    "            turtle.fd(40)\n",
    "        elif i ==\"+\":\n",
    "            turtle.write('日',font = ('Arial',18,'normal'))\n",
    "        else: \n",
    "            drawDigit(eval(i))\n",
    "        \n",
    "def main():  # 建立画布 调用main()函数\n",
    "    turtle.setup(800,350,200,200)\n",
    "    turtle.penup()\n",
    "    turtle.fd(-300)\n",
    "    turtle.pensize(5)\n",
    "    drawData('2019-09=12+')\n",
    "    turtle.hideturtle()\n",
    "    turtle.done\n",
    "    \n",
    "main()\n",
    "    "
   ]
  },
  {
   "cell_type": "markdown",
   "metadata": {},
   "source": [
    "# 字符串翻反转:\n",
    "    s[::-1]\n",
    "试用递归的方法:\n",
    "     - 函数 + 分支结构\n",
    "     - 递归链条\n",
    "     - 递归基例\n",
    "    "
   ]
  },
  {
   "cell_type": "code",
   "execution_count": null,
   "metadata": {},
   "outputs": [],
   "source": [
    "def rvs(s):\n",
    "    if s == '':\n",
    "        return s\n",
    "    else:\n",
    "        return rvs(s[1:])+ s[0]"
   ]
  }
 ],
 "metadata": {
  "kernelspec": {
   "display_name": "Python 3",
   "language": "python",
   "name": "python3"
  },
  "language_info": {
   "codemirror_mode": {
    "name": "ipython",
    "version": 3
   },
   "file_extension": ".py",
   "mimetype": "text/x-python",
   "name": "python",
   "nbconvert_exporter": "python",
   "pygments_lexer": "ipython3",
   "version": "3.6.5"
  }
 },
 "nbformat": 4,
 "nbformat_minor": 2
}
