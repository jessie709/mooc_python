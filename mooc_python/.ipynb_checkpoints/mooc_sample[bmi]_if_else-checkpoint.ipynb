{
 "cells": [
  {
   "cell_type": "markdown",
   "metadata": {},
   "source": [
    "# calBMIv1"
   ]
  },
  {
   "cell_type": "code",
   "execution_count": 8,
   "metadata": {},
   "outputs": [
    {
     "name": "stdout",
     "output_type": "stream",
     "text": [
      "pls m and kg:1.5,2\n",
      "BMI数值为:0.89\n",
      "BMI指数为:国标\"偏瘦\"\n"
     ]
    }
   ],
   "source": [
    "## 输入数据 两类;\n",
    "## 输出数据 一类;\n",
    "\n",
    "height,weight = eval(input('pls m and kg:'))\n",
    "bmi = weight / pow(height, 2)\n",
    "print(\"BMI数值为:{:.2f}\".format(bmi))\n",
    "\n",
    "who = ''\n",
    "if bmi < 18.5:\n",
    "    who = '偏瘦'\n",
    "elif 18.5 <= bmi < 25:\n",
    "    who = '正常'\n",
    "elif 25 <= bmi < 30:\n",
    "    who = '偏胖'\n",
    "\n",
    "else:\n",
    "    who = '肥胖'\n",
    "\n",
    "print('BMI指数为:国标\"{0}\"'.format(who))\n",
    "                           "
   ]
  },
  {
   "cell_type": "code",
   "execution_count": 9,
   "metadata": {},
   "outputs": [
    {
     "ename": "SyntaxError",
     "evalue": "invalid syntax (<ipython-input-9-cff8111adf6e>, line 13)",
     "output_type": "error",
     "traceback": [
      "\u001b[0;36m  File \u001b[0;32m\"<ipython-input-9-cff8111adf6e>\"\u001b[0;36m, line \u001b[0;32m13\u001b[0m\n\u001b[0;31m    elif 24 <= bmi < 25\u001b[0m\n\u001b[0m                       ^\u001b[0m\n\u001b[0;31mSyntaxError\u001b[0m\u001b[0;31m:\u001b[0m invalid syntax\n"
     ]
    }
   ],
   "source": [
    "## 输入数据 两类;\n",
    "## 输出数据 两类;\n",
    "\n",
    "height,weight = eval(input('pls m and kg:'))\n",
    "bmi = weight / pow(height, 2)\n",
    "print(\"BMI数值为:{:.2f}\".format(bmi))\n",
    "\n",
    "who,nat = '',\"\"\n",
    "if bmi < 18.5:\n",
    "    who, nat = '偏瘦',\"偏瘦\"\n",
    "elif 18.5 <= bmi < 24:\n",
    "    who, nat = '正常','正常'\n",
    "elif 24 <= bmi < 25:\n",
    "    who, nat = '正常',\"偏胖\"   \n",
    "elif 25 <= bmi < 28:\n",
    "    who, nat = '偏胖',\"偏胖\"\n",
    "elif 28 <= bmi <30:\n",
    "    who, nat = \"偏胖\",\"肥胖\"\n",
    "else:\n",
    "    who, nat = '肥胖',\"肥胖\"\n",
    "\n",
    "print('BMI指数为:国标\"{0}\",国内\"{1}\"'.format(who,nat))"
   ]
  },
  {
   "cell_type": "code",
   "execution_count": null,
   "metadata": {},
   "outputs": [],
   "source": []
  }
 ],
 "metadata": {
  "kernelspec": {
   "display_name": "Python 3",
   "language": "python",
   "name": "python3"
  },
  "language_info": {
   "codemirror_mode": {
    "name": "ipython",
    "version": 3
   },
   "file_extension": ".py",
   "mimetype": "text/x-python",
   "name": "python",
   "nbconvert_exporter": "python",
   "pygments_lexer": "ipython3",
   "version": "3.6.5"
  }
 },
 "nbformat": 4,
 "nbformat_minor": 2
}
