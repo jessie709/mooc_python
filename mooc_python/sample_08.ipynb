{
 "cells": [
  {
   "cell_type": "code",
   "execution_count": 15,
   "metadata": {},
   "outputs": [
    {
     "name": "stdout",
     "output_type": "stream",
     "text": [
      "棒球预测\n",
      "A能力值0.2\n",
      "B能力值0.3\n",
      "模拟场次10\n"
     ]
    },
    {
     "ename": "NameError",
     "evalue": "name 'random' is not defined",
     "output_type": "error",
     "traceback": [
      "\u001b[0;31m---------------------------------------------------------------------------\u001b[0m",
      "\u001b[0;31mNameError\u001b[0m                                 Traceback (most recent call last)",
      "\u001b[0;32m<ipython-input-15-baf238d5e96d>\u001b[0m in \u001b[0;36m<module>\u001b[0;34m()\u001b[0m\n\u001b[1;32m     49\u001b[0m     \u001b[0mprintSummary\u001b[0m\u001b[0;34m(\u001b[0m\u001b[0mwinsA\u001b[0m\u001b[0;34m,\u001b[0m \u001b[0mwinsB\u001b[0m\u001b[0;34m)\u001b[0m\u001b[0;34m\u001b[0m\u001b[0m\n\u001b[1;32m     50\u001b[0m \u001b[0;34m\u001b[0m\u001b[0m\n\u001b[0;32m---> 51\u001b[0;31m \u001b[0mmain\u001b[0m\u001b[0;34m(\u001b[0m\u001b[0;34m)\u001b[0m\u001b[0;34m\u001b[0m\u001b[0m\n\u001b[0m",
      "\u001b[0;32m<ipython-input-15-baf238d5e96d>\u001b[0m in \u001b[0;36mmain\u001b[0;34m()\u001b[0m\n\u001b[1;32m     46\u001b[0m     \u001b[0mprintIntro\u001b[0m\u001b[0;34m(\u001b[0m\u001b[0;34m)\u001b[0m\u001b[0;34m\u001b[0m\u001b[0m\n\u001b[1;32m     47\u001b[0m     \u001b[0mprobA\u001b[0m\u001b[0;34m,\u001b[0m \u001b[0mprobB\u001b[0m\u001b[0;34m,\u001b[0m \u001b[0mn\u001b[0m \u001b[0;34m=\u001b[0m \u001b[0mgetInputs\u001b[0m\u001b[0;34m(\u001b[0m\u001b[0;34m)\u001b[0m\u001b[0;34m\u001b[0m\u001b[0m\n\u001b[0;32m---> 48\u001b[0;31m     \u001b[0mwinsA\u001b[0m\u001b[0;34m,\u001b[0m \u001b[0mwinsB\u001b[0m \u001b[0;34m=\u001b[0m \u001b[0msimNGames\u001b[0m\u001b[0;34m(\u001b[0m\u001b[0mn\u001b[0m\u001b[0;34m,\u001b[0m \u001b[0mprobA\u001b[0m\u001b[0;34m,\u001b[0m \u001b[0mprobB\u001b[0m\u001b[0;34m)\u001b[0m\u001b[0;34m\u001b[0m\u001b[0m\n\u001b[0m\u001b[1;32m     49\u001b[0m     \u001b[0mprintSummary\u001b[0m\u001b[0;34m(\u001b[0m\u001b[0mwinsA\u001b[0m\u001b[0;34m,\u001b[0m \u001b[0mwinsB\u001b[0m\u001b[0;34m)\u001b[0m\u001b[0;34m\u001b[0m\u001b[0m\n\u001b[1;32m     50\u001b[0m \u001b[0;34m\u001b[0m\u001b[0m\n",
      "\u001b[0;32m<ipython-input-15-baf238d5e96d>\u001b[0m in \u001b[0;36msimNGames\u001b[0;34m(n, probA, probB)\u001b[0m\n\u001b[1;32m     36\u001b[0m     \u001b[0mwinsA\u001b[0m\u001b[0;34m,\u001b[0m \u001b[0mwinsB\u001b[0m \u001b[0;34m=\u001b[0m \u001b[0;36m0\u001b[0m\u001b[0;34m,\u001b[0m\u001b[0;36m0\u001b[0m\u001b[0;34m\u001b[0m\u001b[0m\n\u001b[1;32m     37\u001b[0m     \u001b[0;32mfor\u001b[0m \u001b[0mi\u001b[0m \u001b[0;32min\u001b[0m \u001b[0mrange\u001b[0m\u001b[0;34m(\u001b[0m\u001b[0mn\u001b[0m\u001b[0;34m)\u001b[0m\u001b[0;34m:\u001b[0m\u001b[0;34m\u001b[0m\u001b[0m\n\u001b[0;32m---> 38\u001b[0;31m         \u001b[0mscoreA\u001b[0m\u001b[0;34m,\u001b[0m \u001b[0mscoreB\u001b[0m \u001b[0;34m=\u001b[0m \u001b[0msimOneGames\u001b[0m\u001b[0;34m(\u001b[0m\u001b[0mprobA\u001b[0m\u001b[0;34m,\u001b[0m\u001b[0mprobB\u001b[0m\u001b[0;34m)\u001b[0m\u001b[0;34m\u001b[0m\u001b[0m\n\u001b[0m\u001b[1;32m     39\u001b[0m         \u001b[0;32mif\u001b[0m \u001b[0mscoreA\u001b[0m \u001b[0;34m>\u001b[0m \u001b[0mscoreB\u001b[0m\u001b[0;34m:\u001b[0m\u001b[0;34m\u001b[0m\u001b[0m\n\u001b[1;32m     40\u001b[0m             \u001b[0mwinsA\u001b[0m \u001b[0;34m+=\u001b[0m \u001b[0;36m1\u001b[0m\u001b[0;34m\u001b[0m\u001b[0m\n",
      "\u001b[0;32m<ipython-input-15-baf238d5e96d>\u001b[0m in \u001b[0;36msimOneGames\u001b[0;34m(probA, porbB)\u001b[0m\n\u001b[1;32m     22\u001b[0m     \u001b[0;32mwhile\u001b[0m \u001b[0;32mnot\u001b[0m \u001b[0mgameOver\u001b[0m\u001b[0;34m(\u001b[0m\u001b[0mscoreA\u001b[0m\u001b[0;34m,\u001b[0m \u001b[0mscoreB\u001b[0m\u001b[0;34m)\u001b[0m\u001b[0;34m:\u001b[0m\u001b[0;34m\u001b[0m\u001b[0m\n\u001b[1;32m     23\u001b[0m         \u001b[0;32mif\u001b[0m \u001b[0mserving\u001b[0m \u001b[0;34m==\u001b[0m \u001b[0;34m\"A\"\u001b[0m\u001b[0;34m:\u001b[0m\u001b[0;34m\u001b[0m\u001b[0m\n\u001b[0;32m---> 24\u001b[0;31m             \u001b[0;32mif\u001b[0m \u001b[0mrandom\u001b[0m\u001b[0;34m(\u001b[0m\u001b[0;34m)\u001b[0m \u001b[0;34m<\u001b[0m \u001b[0mprobA\u001b[0m\u001b[0;34m:\u001b[0m\u001b[0;34m\u001b[0m\u001b[0m\n\u001b[0m\u001b[1;32m     25\u001b[0m                 \u001b[0mscroeA\u001b[0m \u001b[0;34m+=\u001b[0m\u001b[0;36m1\u001b[0m\u001b[0;34m\u001b[0m\u001b[0m\n\u001b[1;32m     26\u001b[0m             \u001b[0;32melse\u001b[0m\u001b[0;34m:\u001b[0m\u001b[0;34m\u001b[0m\u001b[0m\n",
      "\u001b[0;31mNameError\u001b[0m: name 'random' is not defined"
     ]
    }
   ],
   "source": [
    "\n",
    "def printIntro():\n",
    "    print('棒球预测')\n",
    "\n",
    "def getInputs():\n",
    "    a = eval(input('A能力值'))\n",
    "    b = eval(input('B能力值'))\n",
    "    n = eval(input('模拟场次'))\n",
    "    return a, b, n\n",
    "\n",
    "def printSummary(winsA,winsB):\n",
    "    n = winsA + winsB\n",
    "    print('共模拟{}场比赛'.format(n))\n",
    "    print('A获胜{},占比{:0.1%}'.format(winsA,winsA/n))\n",
    "    print('B获胜{},占比{:0.1%}'.format(winsB,winsB/n))\n",
    "    \n",
    "def gameOver(a,b):\n",
    "    return a == 15 or b == 15\n",
    "def simOneGames(probA, porbB):\n",
    "    scoreA, scoreB = 0,0\n",
    "    serving = \"A\"\n",
    "    while not gameOver(scoreA, scoreB):\n",
    "        if serving == \"A\":\n",
    "            if random() < probA:\n",
    "                scroeA +=1\n",
    "            else:\n",
    "                serving = \"B\" \n",
    "        else:\n",
    "            if random() < probB:\n",
    "                scoreB +=1\n",
    "            else:\n",
    "                serving = \"A\"  \n",
    "    return scoreA, scoreB\n",
    "          \n",
    "def simNGames(n,probA, probB):\n",
    "    winsA, winsB = 0,0\n",
    "    for i in range(n):\n",
    "        scoreA, scoreB = simOneGames(probA,probB)\n",
    "        if scoreA > scoreB:\n",
    "            winsA += 1\n",
    "        else:\n",
    "            winsB += 1\n",
    "    return winsA, winsB\n",
    "\n",
    "def main():\n",
    "    printIntro()\n",
    "    probA, probB, n = getInputs()\n",
    "    winsA, winsB = simNGames(n, probA, probB)\n",
    "    printSummary(winsA, winsB)\n",
    " \n",
    "main()"
   ]
  },
  {
   "cell_type": "code",
   "execution_count": null,
   "metadata": {},
   "outputs": [],
   "source": []
  },
  {
   "cell_type": "code",
   "execution_count": null,
   "metadata": {},
   "outputs": [],
   "source": [
    "# 批量安装库\n",
    "import os\n",
    "libs= {'pillow','request',\\\n",
    "      'beautifulsoup4','wheel','networkx','sympy'\\\n",
    "      'pyinstaller','django','flask','werobot','pyqt5',\\\n",
    "      'pyopengl','pypdf2','docopt','pygame'}\n",
    "try:\n",
    "    for lib in libs:\n",
    "        os.system('pip install'+lib)\n",
    "    print('Successful')\n",
    "except:\n",
    "    print('Failed Somehow')"
   ]
  }
 ],
 "metadata": {
  "kernelspec": {
   "display_name": "Python 3",
   "language": "python",
   "name": "python3"
  },
  "language_info": {
   "codemirror_mode": {
    "name": "ipython",
    "version": 3
   },
   "file_extension": ".py",
   "mimetype": "text/x-python",
   "name": "python",
   "nbconvert_exporter": "python",
   "pygments_lexer": "ipython3",
   "version": "3.6.5"
  }
 },
 "nbformat": 4,
 "nbformat_minor": 2
}
