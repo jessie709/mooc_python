{
 "cells": [
  {
   "cell_type": "code",
   "execution_count": 6,
   "metadata": {},
   "outputs": [
    {
     "data": {
      "text/plain": [
       "(8, 2, (2, 2))"
      ]
     },
     "execution_count": 6,
     "metadata": {},
     "output_type": "execute_result"
    }
   ],
   "source": [
    "def fact(n, *b):\n",
    "    s = 1\n",
    "    for i in range(1,n+1):\n",
    "        s *=i\n",
    "    for item in b:\n",
    "        s *=item\n",
    "    return s,n,b\n",
    "\n",
    "fact(2,2,2)"
   ]
  },
  {
   "cell_type": "markdown",
   "metadata": {},
   "source": [
    "# 七段数码管的显示"
   ]
  },
  {
   "cell_type": "code",
   "execution_count": 1,
   "metadata": {},
   "outputs": [],
   "source": [
    "import turtle \n",
    "def drawGap():\n",
    "    turtle.penup()\n",
    "    turtle.fd(5)\n",
    "def drawLine(draw): #绘制单段管\n",
    "    drawGap()\n",
    "    turtle.pendown() if draw else turtle.penup()\n",
    "    turtle.fd(40)\n",
    "    drawGap()\n",
    "    turtle.right(90)\n",
    "def drawDigit(digit):# 根据数字绘制七段数码管\n",
    "    drawLine(True) if digit in [2,3,4,5,6,8,9] else drawLine(False)\n",
    "    drawLine(True) if digit in [0,1,3,4,5,6,7,8,9] else drawLine(False)\n",
    "    drawLine(True) if digit in [0,2,3,4,5,6,7,8,9] else drawLine(False)\n",
    "    drawLine(True) if digit in [0,2,6,8] else drawLine(False)\n",
    "    turtle.left(90)\n",
    "    drawLine(True) if digit in [0,4,5,6,8,9] else drawLine(False)\n",
    "    drawLine(True) if digit in [0,2,3,5,6,7,8,9] else drawLine(False)\n",
    "    drawLine(True) if digit in [0,1,2,3,4,7,8,9] else drawLine(False)\n",
    "    turtle.left(180)\n",
    "    turtle.penup()\n",
    "    turtle.fd(20)\n",
    "    \n",
    "def drawData(data): #获取输出的数字\n",
    "    turtle.pencolor('blue')\n",
    "    for i in data:\n",
    "        if i ==\"-\":\n",
    "            turtle.write('年',font = ('Arial',18,'normal'))\n",
    "            turtle.pencolor('red')\n",
    "            turtle.fd(40)\n",
    "        elif i=='=':\n",
    "            turtle.write('月',font = ('Arial',18,'normal'))\n",
    "            turtle.pencolor('yellow')  \n",
    "            turtle.fd(40)\n",
    "        elif i ==\"+\":\n",
    "            turtle.write('日',font = ('Arial',18,'normal'))\n",
    "        else: \n",
    "            drawDigit(eval(i))\n",
    "        \n",
    "def main():  # 建立画布 调用main()函数\n",
    "    turtle.setup(800,350,200,200)\n",
    "    turtle.penup()\n",
    "    turtle.fd(-300)\n",
    "    turtle.pensize(5)\n",
    "    drawData('2019-09=12+')\n",
    "    turtle.hideturtle()\n",
    "    turtle.done\n",
    "    \n",
    "main()\n",
    "    "
   ]
  },
  {
   "cell_type": "markdown",
   "metadata": {},
   "source": [
    "# 字符串翻反转:\n",
    "    s[::-1]\n",
    "试用递归的方法:\n",
    "     - 函数 + 分支结构\n",
    "     - 递归链条\n",
    "     - 递归基例\n",
    "    "
   ]
  },
  {
   "cell_type": "code",
   "execution_count": 7,
   "metadata": {},
   "outputs": [
    {
     "data": {
      "text/plain": [
       "'654321'"
      ]
     },
     "execution_count": 7,
     "metadata": {},
     "output_type": "execute_result"
    }
   ],
   "source": [
    "def rvs(s):\n",
    "    if s == '':\n",
    "        return s\n",
    "    else:\n",
    "        return rvs(s[1:])+ s[0]\n",
    "    \n",
    "rvs('123456')"
   ]
  },
  {
   "cell_type": "markdown",
   "metadata": {},
   "source": [
    "## 斐波那契数列\n",
    "f(n)= 1 ----> n=1\n",
    "f(n)= 1 ----> n=2\n",
    "f(n) = f(n-1) + f(n-2)"
   ]
  },
  {
   "cell_type": "code",
   "execution_count": 3,
   "metadata": {},
   "outputs": [
    {
     "data": {
      "text/plain": [
       "55"
      ]
     },
     "execution_count": 3,
     "metadata": {},
     "output_type": "execute_result"
    }
   ],
   "source": [
    "def f(n):\n",
    "    if n ==1 or n==2:\n",
    "        return 1\n",
    "    else:\n",
    "        return f(n-1)+f(n-2)\n",
    "f(10)"
   ]
  },
  {
   "cell_type": "markdown",
   "metadata": {},
   "source": [
    "## 汉诺塔\n"
   ]
  },
  {
   "cell_type": "code",
   "execution_count": 20,
   "metadata": {
    "scrolled": true
   },
   "outputs": [
    {
     "name": "stdout",
     "output_type": "stream",
     "text": [
      "1:src->dst\n",
      "2:src->mid\n",
      "1:dst->mid\n",
      "3:src->dst\n",
      "1:mid->src\n",
      "2:mid->dst\n",
      "1:src->dst\n",
      "7\n"
     ]
    }
   ],
   "source": [
    "count = 0\n",
    "def hanoi(n, src, dst, mid):\n",
    "    global count\n",
    "    if n == 1:\n",
    "        \n",
    "        print('{}:{}->{}'.format(1, src, dst))\n",
    "        count +=1\n",
    "        \n",
    "    else: \n",
    "        hanoi(n-1, src, mid, dst)\n",
    "        print('{}:{}->{}'.format(n, src, dst))\n",
    "        count += 1\n",
    "        hanoi (n-1, mid, dst, src)\n",
    "        \n",
    "hanoi(3,'src', 'dst', 'mid')\n",
    "print(count)"
   ]
  },
  {
   "cell_type": "code",
   "execution_count": null,
   "metadata": {},
   "outputs": [],
   "source": [
    "steps = 0\n",
    "def hanoi(src, des, mid, n):\n",
    "    global steps\n",
    "    if n == 1:\n",
    "        steps += 1\n",
    "        print(\"[STEP{:>4}] {}->{}\".format(steps, src, des))\n",
    "    else:\n",
    "        hanoi(src, mid, des, n-1)\n",
    "        steps += 1\n",
    "        print(\"[STEP{:>4}] {}->{}\".format(steps, src, des))        \n",
    "        hanoi(mid, des, src, n-1)\n",
    "N = eval(input())\n",
    "hanoi(\"A\", \"C\", \"B\", N)"
   ]
  },
  {
   "cell_type": "markdown",
   "metadata": {},
   "source": [
    "# 科赫雪花小包裹"
   ]
  },
  {
   "cell_type": "code",
   "execution_count": 2,
   "metadata": {},
   "outputs": [],
   "source": [
    "# KochDrawv1\n",
    "import turtle\n",
    "def koch(size, n):\n",
    "    if n == 0:\n",
    "        turtle.fd(size)\n",
    "    else:\n",
    "        for angle in [0,60,-120,60]:\n",
    "            turtle.left(angle)\n",
    "            koch(size/3,n-1)\n",
    "            \n",
    "def main():\n",
    "    turtle.setup(800,400)\n",
    "    turtle.penup()\n",
    "    turtle.goto(-300,-50)\n",
    "    turtle.pendown()\n",
    "    turtle.pensize(2)\n",
    "    koch(600,3)\n",
    "    turtle.hideturtle()\n",
    "main()"
   ]
  },
  {
   "cell_type": "code",
   "execution_count": 7,
   "metadata": {},
   "outputs": [],
   "source": [
    "# KochDrawv1\n",
    "import turtle\n",
    "def koch(size, n):\n",
    "    if n == 0:\n",
    "        turtle.fd(size)\n",
    "    else:\n",
    "        for angle in [0,60,-120,60]:\n",
    "            turtle.left(angle)\n",
    "            koch(size/3,n-1)\n",
    "            \n",
    "def main():\n",
    "    turtle.setup(600,600)\n",
    "    turtle.penup()\n",
    "    turtle.goto(-200,100)\n",
    "    turtle.pendown()\n",
    "    turtle.pensize(2)\n",
    "    level = 4\n",
    "    koch(400,level)\n",
    "    turtle.right(120)\n",
    "    koch(400,level)\n",
    "    turtle.right(120)\n",
    "    koch(400,level)\n",
    "    turtle.hideturtle()\n",
    "main()"
   ]
  },
  {
   "cell_type": "code",
   "execution_count": null,
   "metadata": {},
   "outputs": [],
   "source": [
    "# 任意累积"
   ]
  },
  {
   "cell_type": "code",
   "execution_count": 24,
   "metadata": {},
   "outputs": [
    {
     "name": "stdout",
     "output_type": "stream",
     "text": [
      "1,2,3,4\n",
      "24\n"
     ]
    }
   ],
   "source": [
    "def cmul(*b):\n",
    "    count = 1\n",
    "    for i in b:\n",
    "        count *=i \n",
    "    return count\n",
    "print(eval(\"cmul({})\".format(input())))\n"
   ]
  },
  {
   "cell_type": "code",
   "execution_count": 11,
   "metadata": {},
   "outputs": [
    {
     "name": "stdout",
     "output_type": "stream",
     "text": [
      "x is 24\n"
     ]
    }
   ],
   "source": [
    "input_v = '1,2,3,4'\n",
    "x = 1\n",
    "for i in input_v.split(','):\n",
    "    x = x * int(i)\n",
    "print(f'x is {x}')"
   ]
  },
  {
   "cell_type": "code",
   "execution_count": 25,
   "metadata": {},
   "outputs": [
    {
     "name": "stdout",
     "output_type": "stream",
     "text": [
      "args type is <class 'tuple'>\n",
      "kwargs type is <class 'dict'>\n",
      "1\n",
      "2\n",
      "3\n",
      "4\n",
      "18\n",
      "27\n",
      "key = name, value = levin\n",
      "key = age, value = 18\n"
     ]
    }
   ],
   "source": [
    "def my_plus(*args, **kwargs):\n",
    "    print(f'args type is {type(args)}')\n",
    "    print(f'kwargs type is {type(kwargs)}')\n",
    "    for i in args:\n",
    "        print(i)\n",
    "    for key, val in kwargs.items():\n",
    "        print(f'key = {key}, value = {val}')\n",
    "    \n",
    "\n",
    "my_plus(1,2,3,4, 18, 27, name='levin', age=18)"
   ]
  },
  {
   "cell_type": "code",
   "execution_count": null,
   "metadata": {},
   "outputs": [],
   "source": [
    "def fbi(n):\n",
    "    n = int(n)\n",
    "    if n == 1:\n",
    "        return 1\n",
    "    elif n == 2:\n",
    "        return 1\n",
    "    else:\n",
    "        return fbi(n-1) + fbi(n-2)\n",
    "    \n",
    "\n",
    "n = eval(input())\n",
    "print(fbi(n))"
   ]
  },
  {
   "cell_type": "code",
   "execution_count": null,
   "metadata": {},
   "outputs": [],
   "source": []
  }
 ],
 "metadata": {
  "kernelspec": {
   "display_name": "Python 3",
   "language": "python",
   "name": "python3"
  },
  "language_info": {
   "codemirror_mode": {
    "name": "ipython",
    "version": 3
   },
   "file_extension": ".py",
   "mimetype": "text/x-python",
   "name": "python",
   "nbconvert_exporter": "python",
   "pygments_lexer": "ipython3",
   "version": "3.6.5"
  }
 },
 "nbformat": 4,
 "nbformat_minor": 2
}
