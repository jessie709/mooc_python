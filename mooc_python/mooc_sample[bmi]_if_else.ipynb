{
 "cells": [
  {
   "cell_type": "markdown",
   "metadata": {},
   "source": [
    "# calBMIv1"
   ]
  },
  {
   "cell_type": "code",
   "execution_count": null,
   "metadata": {},
   "outputs": [],
   "source": [
    "## 输入数据 两类;\n",
    "## 输出数据 一类;\n",
    "\n",
    "height,weight = eval(input('pls m and kg:'))\n",
    "bmi = weight / pow(height, 2)\n",
    "print(\"BMI数值为:{:.2f}\".format(bmi))\n",
    "\n",
    "who = ''\n",
    "if bmi < 18.5:\n",
    "    who = '偏瘦'\n",
    "elif 18.5 <= bmi < 25:\n",
    "    who = '正常'\n",
    "elif 25 <= bmi < 30:\n",
    "    who = '偏胖'\n",
    "\n",
    "else:\n",
    "    who = '肥胖'\n",
    "\n",
    "print('BMI指数为:国标\"{0}\"'.format(who))\n",
    "                           "
   ]
  },
  {
   "cell_type": "code",
   "execution_count": 12,
   "metadata": {},
   "outputs": [
    {
     "name": "stdout",
     "output_type": "stream",
     "text": [
      "pls m and kg:1.52,42.2\n",
      "BMI数值为:18.27\n",
      "BMI指数为:国标\"偏瘦\",国内\"偏瘦\"\n"
     ]
    }
   ],
   "source": [
    "## 输入数据 两类;\n",
    "## 输出数据 两类;\n",
    "\n",
    "height,weight = eval(input('pls m and kg:'))\n",
    "bmi = weight / pow(height, 2)\n",
    "print(\"BMI数值为:{:.2f}\".format(bmi))\n",
    "\n",
    "who,nat = '',\"\"\n",
    "if bmi < 18.5:\n",
    "    who, nat = '偏瘦',\"偏瘦\"\n",
    "elif 18.5 <= bmi < 24:\n",
    "    who, nat = '正常','正常'\n",
    "elif 24 <= bmi < 25:\n",
    "    who, nat = '正常',\"偏胖\"   \n",
    "elif 25 <= bmi < 28:\n",
    "    who, nat = '偏胖',\"偏胖\"\n",
    "elif 28 <= bmi <30:\n",
    "    who, nat = \"偏胖\",\"肥胖\"\n",
    "else:\n",
    "    who, nat = '肥胖',\"肥胖\"\n",
    "\n",
    "print('BMI指数为:国标\"{0}\",国内\"{1}\"'.format(who,nat))"
   ]
  },
  {
   "cell_type": "markdown",
   "metadata": {},
   "source": [
    "![cycle](./pics/cycle.jpg)"
   ]
  },
  {
   "cell_type": "markdown",
   "metadata": {},
   "source": [
    "\n",
    "# 实例5：身体质量指数BMI\n",
    " ‪‬‪‬‪‬‪‬‪‬‮‬‪‬‭‬‪‬‪‬‪‬‪‬‪‬‮‬‪‬‪‬‪‬‪‬‪‬‪‬‪‬‮‬‫‬‮‬‪‬‪‬‪‬‪‬‪‬‮‬‪‬‮‬‪‬‪‬‪‬‪‬‪‬‮‬‪‬‫‬‪‬‪‬‪‬‪‬‪‬‮‬‫‬‭‬\n",
    "\n",
    "描述\n",
    "这是\"实例\"题，与课上讲解实例相同，请作答检验学习效果。‪‬‪‬‪‬‪‬‪‬‮‬‪‬‭‬‪‬‪‬‪‬‪‬‪‬‮‬‪‬‪‬‪‬‪‬‪‬‪‬‪‬‮‬‫‬‮‬‪‬‪‬‪‬‪‬‪‬‮‬‪‬‮‬‪‬‪‬‪‬‪‬‪‬‮‬‪‬‫‬‪‬‪‬‪‬‪‬‪‬‮‬‫‬‭‬\n",
    "\n",
    "BMI ：Body Mass Index 国际上常用的衡量人体肥胖和健康程度重要标准，主要用于统计分析‪‬‪‬‪‬‪‬‪‬‮‬‪‬‭‬‪‬‪‬‪‬‪‬‪‬‮‬‪‬‪‬‪‬‪‬‪‬‪‬‪‬‮‬‫‬‮‬‪‬‪‬‪‬‪‬‪‬‮‬‪‬‮‬‪‬‪‬‪‬‪‬‪‬‮‬‪‬‫‬‪‬‪‬‪‬‪‬‪‬‮‬‫‬‭‬\n",
    "\n",
    "定义：BMI = 体重 (kg) /身高2(m2)‪‬‪‬‪‬‪‬‪‬‮‬‪‬‭‬‪‬‪‬‪‬‪‬‪‬‮‬‪‬‪‬‪‬‪‬‪‬‪‬‪‬‮‬‫‬‮‬‪‬‪‬‪‬‪‬‪‬‮‬‪‬‮‬‪‬‪‬‪‬‪‬‪‬‮‬‪‬‫‬‪‬‪‬‪‬‪‬‪‬‮‬‫‬‭‬\n",
    "\n",
    "获取用户输入的体重和身高值，计算并给出国际和国内的 BMI 分类‪‬‪‬‪‬‪‬‪‬‮‬‪‬‭‬‪‬‪‬‪‬‪‬‪‬‮‬‪‬‪‬‪‬‪‬‪‬‪‬‪‬‮‬‫‬‮‬‪‬‪‬‪‬‪‬‪‬‮‬‪‬‮‬‪‬‪‬‪‬‪‬‪‬‮‬‪‬‫‬‪‬‪‬‪‬‪‬‪‬‮‬‫‬‭‬\n",
    "\n",
    "![women](./pics/bmi.png)\n",
    "\n",
    "‪‬‪‬‪‬‪‬‪‬‮‬‫‬‫‬‪‬‪‬‪‬‪‬‪‬‮‬‭‬‪‬要求如下：‪‬‪‬‪‬‪‬‪‬‮‬‪‬‭‬‪‬‪‬‪‬‪‬‪‬‮‬‪‬‪‬‪‬‪‬‪‬‪‬‪‬‮‬‫‬‮‬‪‬‪‬‪‬‪‬‪‬‮‬‪‬‮‬‪‬‪‬‪‬‪‬‪‬‮‬‪‬‫‬‪‬‪‬‪‬‪‬‪‬‮‬‫‬‭‬\n",
    "\n",
    "(1) 混合计算并给出国际和国内的 BMI 分类；‪‬‪‬‪‬‪‬‪‬‮‬‫‬‫‬‪‬‪‬‪‬‪‬‪‬‮‬‭‬‪‬‪‬‪‬‪‬‪‬‪‬‮‬‪‬‭‬‪‬‪‬‪‬‪‬‪‬‮‬‪‬‪‬‪‬‪‬‪‬‪‬‪‬‮‬‫‬‮‬‪‬‪‬‪‬‪‬‪‬‮‬‪‬‮‬‪‬‪‬‪‬‪‬‪‬‮‬‪‬‫‬‪‬‪‬‪‬‪‬‪‬‮‬‫‬‭‬\n",
    "\n",
    "(2) 使用input()获得测试用例输入时，不要增加提示字符串。‪‬‪‬‪‬‪‬‪‬‮‬‫‬‫‬‪‬‪‬‪‬‪‬‪‬‮‬‭‬‪‬"
   ]
  },
  {
   "cell_type": "code",
   "execution_count": null,
   "metadata": {},
   "outputs": [],
   "source": [
    "height, weight = eval(input())\n",
    "\n",
    "# values = value.split(',')\n",
    "# height, weight = float(values[0]), float(value[1])\n",
    "\n",
    "bmi = weight/pow(height,2)\n",
    "print('BMI数值为:{:.2f}'.format(bmi))\n",
    "\n",
    "who, nat = \"\",\"\"\n",
    "if bmi < 18.5:\n",
    "    who,nat = \"偏瘦\",\"偏瘦\"\n",
    "elif 24 >= bmi >=18.5:\n",
    "    who,nat  = '正常','正常'\n",
    "elif 25 >= bmi >= 24:\n",
    "    who,nat = '正常','偏胖'\n",
    "elif 28 >= bmi >= 25:\n",
    "    who, nat = '偏胖','偏胖' \n",
    "elif 30 >= bmi >=28:\n",
    "    who, nat = \"偏胖\",'肥胖'\n",
    "else:\n",
    "    who, nat = '肥胖','肥胖'\n",
    "\n",
    "print(\"BMI指标为:国际'{0}',国内'{1}'\".format(who,nat))\n"
   ]
  },
  {
   "cell_type": "markdown",
   "metadata": {},
   "source": [
    "\n",
    "‪‬‪‬‪‬‪‬‪‬‮‬‪‬‭‬‪‬‪‬‪‬‪‬‪‬‮‬‪‬‪‬‪‬‪‬‪‬‪‬‪‬‮‬‫‬‮‬‪‬‪‬‪‬‪‬‪‬‮‬‪‬‮‬‪‬‪‬‪‬‪‬‪‬‮‬‪‬‫‬‪‬‪‬‪‬‪‬‪‬‮‬‫‬‭‬\n",
    "\n"
   ]
  },
  {
   "cell_type": "code",
   "execution_count": null,
   "metadata": {},
   "outputs": [],
   "source": []
  }
 ],
 "metadata": {
  "kernelspec": {
   "display_name": "Python 3",
   "language": "python",
   "name": "python3"
  },
  "language_info": {
   "codemirror_mode": {
    "name": "ipython",
    "version": 3
   },
   "file_extension": ".py",
   "mimetype": "text/x-python",
   "name": "python",
   "nbconvert_exporter": "python",
   "pygments_lexer": "ipython3",
   "version": "3.6.5"
  }
 },
 "nbformat": 4,
 "nbformat_minor": 2
}
